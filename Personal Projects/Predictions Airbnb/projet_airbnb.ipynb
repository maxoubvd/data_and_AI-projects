{
  "cells": [
    {
      "cell_type": "code",
      "execution_count": 1,
      "metadata": {
        "id": "bKfsITCKBrKP"
      },
      "outputs": [],
      "source": [
        "import pandas as pd\n",
        "import numpy as np\n",
        "import seaborn as sns\n",
        "import sklearn\n",
        "import matplotlib.pyplot as plt"
      ]
    },
    {
      "cell_type": "markdown",
      "metadata": {
        "id": "nPUBqEKaCSsn"
      },
      "source": [
        "# Chargement des données"
      ]
    },
    {
      "cell_type": "code",
      "execution_count": 2,
      "metadata": {
        "id": "p6DwoEIoCLzF"
      },
      "outputs": [],
      "source": [
        "data_train = pd.read_csv('airbnb_train.csv')"
      ]
    },
    {
      "cell_type": "markdown",
      "metadata": {
        "id": "6QYcMWT3CUxH"
      },
      "source": [
        "# Première analyse des données"
      ]
    },
    {
      "cell_type": "code",
      "execution_count": 3,
      "metadata": {
        "colab": {
          "base_uri": "https://localhost:8080/"
        },
        "id": "dcfeFtNOCR3p",
        "outputId": "2934b554-59e8-4ed1-9a94-6d83022d8d12"
      },
      "outputs": [
        {
          "output_type": "stream",
          "name": "stdout",
          "text": [
            "shape :  (22234, 28)\n",
            "<class 'pandas.core.frame.DataFrame'>\n",
            "RangeIndex: 22234 entries, 0 to 22233\n",
            "Data columns (total 28 columns):\n",
            " #   Column                  Non-Null Count  Dtype  \n",
            "---  ------                  --------------  -----  \n",
            " 0   id                      22234 non-null  int64  \n",
            " 1   log_price               22234 non-null  float64\n",
            " 2   property_type           22234 non-null  object \n",
            " 3   room_type               22234 non-null  object \n",
            " 4   amenities               22234 non-null  object \n",
            " 5   accommodates            22234 non-null  int64  \n",
            " 6   bathrooms               22183 non-null  float64\n",
            " 7   bed_type                22234 non-null  object \n",
            " 8   cancellation_policy     22234 non-null  object \n",
            " 9   cleaning_fee            22234 non-null  bool   \n",
            " 10  city                    22234 non-null  object \n",
            " 11  description             22234 non-null  object \n",
            " 12  first_review            17509 non-null  object \n",
            " 13  host_has_profile_pic    22178 non-null  object \n",
            " 14  host_identity_verified  22178 non-null  object \n",
            " 15  host_response_rate      16759 non-null  object \n",
            " 16  host_since              22178 non-null  object \n",
            " 17  instant_bookable        22234 non-null  object \n",
            " 18  last_review             17518 non-null  object \n",
            " 19  latitude                22234 non-null  float64\n",
            " 20  longitude               22234 non-null  float64\n",
            " 21  name                    22234 non-null  object \n",
            " 22  neighbourhood           20148 non-null  object \n",
            " 23  number_of_reviews       22234 non-null  int64  \n",
            " 24  review_scores_rating    17256 non-null  float64\n",
            " 25  zipcode                 21931 non-null  object \n",
            " 26  bedrooms                22208 non-null  float64\n",
            " 27  beds                    22199 non-null  float64\n",
            "dtypes: bool(1), float64(7), int64(3), object(17)\n",
            "memory usage: 4.6+ MB\n",
            "None\n"
          ]
        }
      ],
      "source": [
        "print(\"shape : \", data_train.shape)\n",
        "print(data_train.info())"
      ]
    },
    {
      "cell_type": "code",
      "execution_count": 4,
      "metadata": {
        "colab": {
          "base_uri": "https://localhost:8080/",
          "height": 335
        },
        "id": "jlD687TPCY9X",
        "outputId": "6acc0d46-48d9-4715-c931-9117056c5d9d"
      },
      "outputs": [
        {
          "output_type": "execute_result",
          "data": {
            "text/plain": [
              "         id  log_price property_type     room_type  \\\n",
              "0   5708593   4.317488         House  Private room   \n",
              "1  14483613   4.007333         House  Private room   \n",
              "\n",
              "                                           amenities  accommodates  bathrooms  \\\n",
              "0  {TV,\"Wireless Internet\",Kitchen,\"Free parking ...             3        1.0   \n",
              "1  {\"Wireless Internet\",\"Air conditioning\",Kitche...             4        2.0   \n",
              "\n",
              "   bed_type cancellation_policy  cleaning_fee  ... last_review   latitude  \\\n",
              "0  Real Bed            flexible         False  ...         NaN  33.782712   \n",
              "1  Real Bed              strict         False  ...  2017-09-17  40.705468   \n",
              "\n",
              "    longitude                                               name  \\\n",
              "0 -118.134410                            Island style Spa Studio   \n",
              "1  -73.909439  Beautiful and Simple Room W/2 Beds, 25 Mins to...   \n",
              "\n",
              "  neighbourhood number_of_reviews review_scores_rating zipcode bedrooms  beds  \n",
              "0    Long Beach                 0                  NaN   90804      0.0   2.0  \n",
              "1     Ridgewood                38                 86.0   11385      1.0   2.0  \n",
              "\n",
              "[2 rows x 28 columns]"
            ],
            "text/html": [
              "\n",
              "  <div id=\"df-01786c0c-1920-4034-b6f4-c974150e7c58\" class=\"colab-df-container\">\n",
              "    <div>\n",
              "<style scoped>\n",
              "    .dataframe tbody tr th:only-of-type {\n",
              "        vertical-align: middle;\n",
              "    }\n",
              "\n",
              "    .dataframe tbody tr th {\n",
              "        vertical-align: top;\n",
              "    }\n",
              "\n",
              "    .dataframe thead th {\n",
              "        text-align: right;\n",
              "    }\n",
              "</style>\n",
              "<table border=\"1\" class=\"dataframe\">\n",
              "  <thead>\n",
              "    <tr style=\"text-align: right;\">\n",
              "      <th></th>\n",
              "      <th>id</th>\n",
              "      <th>log_price</th>\n",
              "      <th>property_type</th>\n",
              "      <th>room_type</th>\n",
              "      <th>amenities</th>\n",
              "      <th>accommodates</th>\n",
              "      <th>bathrooms</th>\n",
              "      <th>bed_type</th>\n",
              "      <th>cancellation_policy</th>\n",
              "      <th>cleaning_fee</th>\n",
              "      <th>...</th>\n",
              "      <th>last_review</th>\n",
              "      <th>latitude</th>\n",
              "      <th>longitude</th>\n",
              "      <th>name</th>\n",
              "      <th>neighbourhood</th>\n",
              "      <th>number_of_reviews</th>\n",
              "      <th>review_scores_rating</th>\n",
              "      <th>zipcode</th>\n",
              "      <th>bedrooms</th>\n",
              "      <th>beds</th>\n",
              "    </tr>\n",
              "  </thead>\n",
              "  <tbody>\n",
              "    <tr>\n",
              "      <th>0</th>\n",
              "      <td>5708593</td>\n",
              "      <td>4.317488</td>\n",
              "      <td>House</td>\n",
              "      <td>Private room</td>\n",
              "      <td>{TV,\"Wireless Internet\",Kitchen,\"Free parking ...</td>\n",
              "      <td>3</td>\n",
              "      <td>1.0</td>\n",
              "      <td>Real Bed</td>\n",
              "      <td>flexible</td>\n",
              "      <td>False</td>\n",
              "      <td>...</td>\n",
              "      <td>NaN</td>\n",
              "      <td>33.782712</td>\n",
              "      <td>-118.134410</td>\n",
              "      <td>Island style Spa Studio</td>\n",
              "      <td>Long Beach</td>\n",
              "      <td>0</td>\n",
              "      <td>NaN</td>\n",
              "      <td>90804</td>\n",
              "      <td>0.0</td>\n",
              "      <td>2.0</td>\n",
              "    </tr>\n",
              "    <tr>\n",
              "      <th>1</th>\n",
              "      <td>14483613</td>\n",
              "      <td>4.007333</td>\n",
              "      <td>House</td>\n",
              "      <td>Private room</td>\n",
              "      <td>{\"Wireless Internet\",\"Air conditioning\",Kitche...</td>\n",
              "      <td>4</td>\n",
              "      <td>2.0</td>\n",
              "      <td>Real Bed</td>\n",
              "      <td>strict</td>\n",
              "      <td>False</td>\n",
              "      <td>...</td>\n",
              "      <td>2017-09-17</td>\n",
              "      <td>40.705468</td>\n",
              "      <td>-73.909439</td>\n",
              "      <td>Beautiful and Simple Room W/2 Beds, 25 Mins to...</td>\n",
              "      <td>Ridgewood</td>\n",
              "      <td>38</td>\n",
              "      <td>86.0</td>\n",
              "      <td>11385</td>\n",
              "      <td>1.0</td>\n",
              "      <td>2.0</td>\n",
              "    </tr>\n",
              "  </tbody>\n",
              "</table>\n",
              "<p>2 rows × 28 columns</p>\n",
              "</div>\n",
              "    <div class=\"colab-df-buttons\">\n",
              "\n",
              "  <div class=\"colab-df-container\">\n",
              "    <button class=\"colab-df-convert\" onclick=\"convertToInteractive('df-01786c0c-1920-4034-b6f4-c974150e7c58')\"\n",
              "            title=\"Convert this dataframe to an interactive table.\"\n",
              "            style=\"display:none;\">\n",
              "\n",
              "  <svg xmlns=\"http://www.w3.org/2000/svg\" height=\"24px\" viewBox=\"0 -960 960 960\">\n",
              "    <path d=\"M120-120v-720h720v720H120Zm60-500h600v-160H180v160Zm220 220h160v-160H400v160Zm0 220h160v-160H400v160ZM180-400h160v-160H180v160Zm440 0h160v-160H620v160ZM180-180h160v-160H180v160Zm440 0h160v-160H620v160Z\"/>\n",
              "  </svg>\n",
              "    </button>\n",
              "\n",
              "  <style>\n",
              "    .colab-df-container {\n",
              "      display:flex;\n",
              "      gap: 12px;\n",
              "    }\n",
              "\n",
              "    .colab-df-convert {\n",
              "      background-color: #E8F0FE;\n",
              "      border: none;\n",
              "      border-radius: 50%;\n",
              "      cursor: pointer;\n",
              "      display: none;\n",
              "      fill: #1967D2;\n",
              "      height: 32px;\n",
              "      padding: 0 0 0 0;\n",
              "      width: 32px;\n",
              "    }\n",
              "\n",
              "    .colab-df-convert:hover {\n",
              "      background-color: #E2EBFA;\n",
              "      box-shadow: 0px 1px 2px rgba(60, 64, 67, 0.3), 0px 1px 3px 1px rgba(60, 64, 67, 0.15);\n",
              "      fill: #174EA6;\n",
              "    }\n",
              "\n",
              "    .colab-df-buttons div {\n",
              "      margin-bottom: 4px;\n",
              "    }\n",
              "\n",
              "    [theme=dark] .colab-df-convert {\n",
              "      background-color: #3B4455;\n",
              "      fill: #D2E3FC;\n",
              "    }\n",
              "\n",
              "    [theme=dark] .colab-df-convert:hover {\n",
              "      background-color: #434B5C;\n",
              "      box-shadow: 0px 1px 3px 1px rgba(0, 0, 0, 0.15);\n",
              "      filter: drop-shadow(0px 1px 2px rgba(0, 0, 0, 0.3));\n",
              "      fill: #FFFFFF;\n",
              "    }\n",
              "  </style>\n",
              "\n",
              "    <script>\n",
              "      const buttonEl =\n",
              "        document.querySelector('#df-01786c0c-1920-4034-b6f4-c974150e7c58 button.colab-df-convert');\n",
              "      buttonEl.style.display =\n",
              "        google.colab.kernel.accessAllowed ? 'block' : 'none';\n",
              "\n",
              "      async function convertToInteractive(key) {\n",
              "        const element = document.querySelector('#df-01786c0c-1920-4034-b6f4-c974150e7c58');\n",
              "        const dataTable =\n",
              "          await google.colab.kernel.invokeFunction('convertToInteractive',\n",
              "                                                    [key], {});\n",
              "        if (!dataTable) return;\n",
              "\n",
              "        const docLinkHtml = 'Like what you see? Visit the ' +\n",
              "          '<a target=\"_blank\" href=https://colab.research.google.com/notebooks/data_table.ipynb>data table notebook</a>'\n",
              "          + ' to learn more about interactive tables.';\n",
              "        element.innerHTML = '';\n",
              "        dataTable['output_type'] = 'display_data';\n",
              "        await google.colab.output.renderOutput(dataTable, element);\n",
              "        const docLink = document.createElement('div');\n",
              "        docLink.innerHTML = docLinkHtml;\n",
              "        element.appendChild(docLink);\n",
              "      }\n",
              "    </script>\n",
              "  </div>\n",
              "\n",
              "\n",
              "    <div id=\"df-ea3837b8-f643-4165-a1c7-8336da63da2b\">\n",
              "      <button class=\"colab-df-quickchart\" onclick=\"quickchart('df-ea3837b8-f643-4165-a1c7-8336da63da2b')\"\n",
              "                title=\"Suggest charts\"\n",
              "                style=\"display:none;\">\n",
              "\n",
              "<svg xmlns=\"http://www.w3.org/2000/svg\" height=\"24px\"viewBox=\"0 0 24 24\"\n",
              "     width=\"24px\">\n",
              "    <g>\n",
              "        <path d=\"M19 3H5c-1.1 0-2 .9-2 2v14c0 1.1.9 2 2 2h14c1.1 0 2-.9 2-2V5c0-1.1-.9-2-2-2zM9 17H7v-7h2v7zm4 0h-2V7h2v10zm4 0h-2v-4h2v4z\"/>\n",
              "    </g>\n",
              "</svg>\n",
              "      </button>\n",
              "\n",
              "<style>\n",
              "  .colab-df-quickchart {\n",
              "      --bg-color: #E8F0FE;\n",
              "      --fill-color: #1967D2;\n",
              "      --hover-bg-color: #E2EBFA;\n",
              "      --hover-fill-color: #174EA6;\n",
              "      --disabled-fill-color: #AAA;\n",
              "      --disabled-bg-color: #DDD;\n",
              "  }\n",
              "\n",
              "  [theme=dark] .colab-df-quickchart {\n",
              "      --bg-color: #3B4455;\n",
              "      --fill-color: #D2E3FC;\n",
              "      --hover-bg-color: #434B5C;\n",
              "      --hover-fill-color: #FFFFFF;\n",
              "      --disabled-bg-color: #3B4455;\n",
              "      --disabled-fill-color: #666;\n",
              "  }\n",
              "\n",
              "  .colab-df-quickchart {\n",
              "    background-color: var(--bg-color);\n",
              "    border: none;\n",
              "    border-radius: 50%;\n",
              "    cursor: pointer;\n",
              "    display: none;\n",
              "    fill: var(--fill-color);\n",
              "    height: 32px;\n",
              "    padding: 0;\n",
              "    width: 32px;\n",
              "  }\n",
              "\n",
              "  .colab-df-quickchart:hover {\n",
              "    background-color: var(--hover-bg-color);\n",
              "    box-shadow: 0 1px 2px rgba(60, 64, 67, 0.3), 0 1px 3px 1px rgba(60, 64, 67, 0.15);\n",
              "    fill: var(--button-hover-fill-color);\n",
              "  }\n",
              "\n",
              "  .colab-df-quickchart-complete:disabled,\n",
              "  .colab-df-quickchart-complete:disabled:hover {\n",
              "    background-color: var(--disabled-bg-color);\n",
              "    fill: var(--disabled-fill-color);\n",
              "    box-shadow: none;\n",
              "  }\n",
              "\n",
              "  .colab-df-spinner {\n",
              "    border: 2px solid var(--fill-color);\n",
              "    border-color: transparent;\n",
              "    border-bottom-color: var(--fill-color);\n",
              "    animation:\n",
              "      spin 1s steps(1) infinite;\n",
              "  }\n",
              "\n",
              "  @keyframes spin {\n",
              "    0% {\n",
              "      border-color: transparent;\n",
              "      border-bottom-color: var(--fill-color);\n",
              "      border-left-color: var(--fill-color);\n",
              "    }\n",
              "    20% {\n",
              "      border-color: transparent;\n",
              "      border-left-color: var(--fill-color);\n",
              "      border-top-color: var(--fill-color);\n",
              "    }\n",
              "    30% {\n",
              "      border-color: transparent;\n",
              "      border-left-color: var(--fill-color);\n",
              "      border-top-color: var(--fill-color);\n",
              "      border-right-color: var(--fill-color);\n",
              "    }\n",
              "    40% {\n",
              "      border-color: transparent;\n",
              "      border-right-color: var(--fill-color);\n",
              "      border-top-color: var(--fill-color);\n",
              "    }\n",
              "    60% {\n",
              "      border-color: transparent;\n",
              "      border-right-color: var(--fill-color);\n",
              "    }\n",
              "    80% {\n",
              "      border-color: transparent;\n",
              "      border-right-color: var(--fill-color);\n",
              "      border-bottom-color: var(--fill-color);\n",
              "    }\n",
              "    90% {\n",
              "      border-color: transparent;\n",
              "      border-bottom-color: var(--fill-color);\n",
              "    }\n",
              "  }\n",
              "</style>\n",
              "\n",
              "      <script>\n",
              "        async function quickchart(key) {\n",
              "          const quickchartButtonEl =\n",
              "            document.querySelector('#' + key + ' button');\n",
              "          quickchartButtonEl.disabled = true;  // To prevent multiple clicks.\n",
              "          quickchartButtonEl.classList.add('colab-df-spinner');\n",
              "          try {\n",
              "            const charts = await google.colab.kernel.invokeFunction(\n",
              "                'suggestCharts', [key], {});\n",
              "          } catch (error) {\n",
              "            console.error('Error during call to suggestCharts:', error);\n",
              "          }\n",
              "          quickchartButtonEl.classList.remove('colab-df-spinner');\n",
              "          quickchartButtonEl.classList.add('colab-df-quickchart-complete');\n",
              "        }\n",
              "        (() => {\n",
              "          let quickchartButtonEl =\n",
              "            document.querySelector('#df-ea3837b8-f643-4165-a1c7-8336da63da2b button');\n",
              "          quickchartButtonEl.style.display =\n",
              "            google.colab.kernel.accessAllowed ? 'block' : 'none';\n",
              "        })();\n",
              "      </script>\n",
              "    </div>\n",
              "\n",
              "    </div>\n",
              "  </div>\n"
            ],
            "application/vnd.google.colaboratory.intrinsic+json": {
              "type": "dataframe",
              "variable_name": "data_train"
            }
          },
          "metadata": {},
          "execution_count": 4
        }
      ],
      "source": [
        "data_train.head(2)"
      ]
    },
    {
      "cell_type": "markdown",
      "metadata": {
        "id": "MsSOviqTDH4X"
      },
      "source": [
        "# Preprocessing"
      ]
    },
    {
      "cell_type": "markdown",
      "metadata": {
        "id": "nszLV2skDKeC"
      },
      "source": [
        "## Doublons"
      ]
    },
    {
      "cell_type": "code",
      "execution_count": 5,
      "metadata": {
        "colab": {
          "base_uri": "https://localhost:8080/"
        },
        "id": "ck9nQCWqCyI6",
        "outputId": "6066c5d4-0fe0-44a0-ccce-9b1da25ca9b4"
      },
      "outputs": [
        {
          "output_type": "stream",
          "name": "stdout",
          "text": [
            "Nombre de lignes dupliquées : 0\n",
            "Empty DataFrame\n",
            "Columns: [id, log_price, property_type, room_type, amenities, accommodates, bathrooms, bed_type, cancellation_policy, cleaning_fee, city, description, first_review, host_has_profile_pic, host_identity_verified, host_response_rate, host_since, instant_bookable, last_review, latitude, longitude, name, neighbourhood, number_of_reviews, review_scores_rating, zipcode, bedrooms, beds]\n",
            "Index: []\n",
            "\n",
            "[0 rows x 28 columns]\n"
          ]
        }
      ],
      "source": [
        "doublons = data_train[data_train.duplicated(keep=False)]\n",
        "print(f\"Nombre de lignes dupliquées : {doublons.shape[0]}\")\n",
        "print(doublons)"
      ]
    },
    {
      "cell_type": "markdown",
      "metadata": {
        "id": "sIyE0viqDPaW"
      },
      "source": [
        "Pas de doublons, on passe à la suite"
      ]
    },
    {
      "cell_type": "markdown",
      "metadata": {
        "id": "BhwhLykCDSF1"
      },
      "source": [
        "## Valeurs manquantes"
      ]
    },
    {
      "cell_type": "code",
      "execution_count": 6,
      "metadata": {
        "colab": {
          "base_uri": "https://localhost:8080/"
        },
        "id": "xUwb-feLDOgh",
        "outputId": "f134c8c7-dbaf-4149-b256-52c3a9b526cb"
      },
      "outputs": [
        {
          "output_type": "stream",
          "name": "stdout",
          "text": [
            "bathrooms                   51\n",
            "first_review              4725\n",
            "host_has_profile_pic        56\n",
            "host_identity_verified      56\n",
            "host_response_rate        5475\n",
            "host_since                  56\n",
            "last_review               4716\n",
            "neighbourhood             2086\n",
            "review_scores_rating      4978\n",
            "zipcode                    303\n",
            "bedrooms                    26\n",
            "beds                        35\n",
            "dtype: int64\n"
          ]
        }
      ],
      "source": [
        "missing_per_col = data_train.isnull().sum()\n",
        "missing_with_values = missing_per_col[missing_per_col > 0]\n",
        "\n",
        "print(missing_with_values)"
      ]
    },
    {
      "cell_type": "markdown",
      "metadata": {
        "id": "49ZXW-amD9nR"
      },
      "source": [
        "Corrigeons ces valeurs manquantes dans l'ordre :"
      ]
    },
    {
      "cell_type": "markdown",
      "metadata": {
        "id": "E7qfBBzUEDCZ"
      },
      "source": [
        "- bathrooms  \n",
        "Imputation par la médiane (plus robuste que la moyenne)."
      ]
    },
    {
      "cell_type": "code",
      "execution_count": 7,
      "metadata": {
        "colab": {
          "base_uri": "https://localhost:8080/"
        },
        "id": "f1-kEI-SDV0E",
        "outputId": "0877b304-0f21-4a9c-aff0-c4619a3198c0"
      },
      "outputs": [
        {
          "output_type": "stream",
          "name": "stdout",
          "text": [
            "first_review              4725\n",
            "host_has_profile_pic        56\n",
            "host_identity_verified      56\n",
            "host_response_rate        5475\n",
            "host_since                  56\n",
            "last_review               4716\n",
            "neighbourhood             2086\n",
            "review_scores_rating      4978\n",
            "zipcode                    303\n",
            "bedrooms                    26\n",
            "beds                        35\n",
            "dtype: int64\n"
          ]
        },
        {
          "output_type": "stream",
          "name": "stderr",
          "text": [
            "<ipython-input-7-368bb7692dc9>:1: FutureWarning: A value is trying to be set on a copy of a DataFrame or Series through chained assignment using an inplace method.\n",
            "The behavior will change in pandas 3.0. This inplace method will never work because the intermediate object on which we are setting values always behaves as a copy.\n",
            "\n",
            "For example, when doing 'df[col].method(value, inplace=True)', try using 'df.method({col: value}, inplace=True)' or df[col] = df[col].method(value) instead, to perform the operation inplace on the original object.\n",
            "\n",
            "\n",
            "  data_train['bathrooms'].fillna(data_train['bathrooms'].median(), inplace=True)\n"
          ]
        }
      ],
      "source": [
        "data_train['bathrooms'].fillna(data_train['bathrooms'].median(), inplace=True)\n",
        "missing_per_col = data_train.isnull().sum()\n",
        "missing_with_values = missing_per_col[missing_per_col > 0]\n",
        "\n",
        "print(missing_with_values)"
      ]
    },
    {
      "cell_type": "markdown",
      "metadata": {
        "id": "lVVVVp9PEOjm"
      },
      "source": [
        "- first review / last_review  \n",
        "Transformer en datetime, créer une variable has_review = 1 si la date existe, sinon 0, imputer avec une valeur arbitraire (ex. très ancienne)"
      ]
    },
    {
      "cell_type": "code",
      "execution_count": 8,
      "metadata": {
        "colab": {
          "base_uri": "https://localhost:8080/"
        },
        "id": "umXAmClZENj6",
        "outputId": "b11d6ece-a9a3-4ccc-ae4c-077dc25173fd"
      },
      "outputs": [
        {
          "output_type": "stream",
          "name": "stdout",
          "text": [
            "host_has_profile_pic        56\n",
            "host_identity_verified      56\n",
            "host_response_rate        5475\n",
            "host_since                  56\n",
            "neighbourhood             2086\n",
            "review_scores_rating      4978\n",
            "zipcode                    303\n",
            "bedrooms                    26\n",
            "beds                        35\n",
            "dtype: int64\n"
          ]
        }
      ],
      "source": [
        "data_train['first_review'] = pd.to_datetime(data_train['first_review'])\n",
        "data_train['last_review'] = pd.to_datetime(data_train['last_review'])\n",
        "data_train['has_first_review'] = data_train['first_review'].notnull().astype(int)\n",
        "data_train['has_last_review'] = data_train['last_review'].notnull().astype(int)\n",
        "data_train.drop(columns=['first_review', 'last_review'], inplace=True)\n",
        "missing_per_col = data_train.isnull().sum()\n",
        "missing_with_values = missing_per_col[missing_per_col > 0]\n",
        "\n",
        "print(missing_with_values)"
      ]
    },
    {
      "cell_type": "markdown",
      "metadata": {
        "id": "9f8tkDqlEzDK"
      },
      "source": [
        "- host_has_profile_pic / host_identity_verified  \n",
        "Ces champs sont booléens, donc imputation par la modalité la plus fréquente"
      ]
    },
    {
      "cell_type": "code",
      "execution_count": 9,
      "metadata": {
        "colab": {
          "base_uri": "https://localhost:8080/"
        },
        "id": "B-eXpuf6FC2X",
        "outputId": "bf18cb53-7c85-4005-ca59-28537741040b"
      },
      "outputs": [
        {
          "output_type": "stream",
          "name": "stdout",
          "text": [
            "host_response_rate      5475\n",
            "host_since                56\n",
            "neighbourhood           2086\n",
            "review_scores_rating    4978\n",
            "zipcode                  303\n",
            "bedrooms                  26\n",
            "beds                      35\n",
            "dtype: int64\n"
          ]
        },
        {
          "output_type": "stream",
          "name": "stderr",
          "text": [
            "<ipython-input-9-b07853711dba>:3: FutureWarning: A value is trying to be set on a copy of a DataFrame or Series through chained assignment using an inplace method.\n",
            "The behavior will change in pandas 3.0. This inplace method will never work because the intermediate object on which we are setting values always behaves as a copy.\n",
            "\n",
            "For example, when doing 'df[col].method(value, inplace=True)', try using 'df.method({col: value}, inplace=True)' or df[col] = df[col].method(value) instead, to perform the operation inplace on the original object.\n",
            "\n",
            "\n",
            "  data_train[col].fillna(mode_val, inplace=True)\n"
          ]
        }
      ],
      "source": [
        "for col in ['host_has_profile_pic', 'host_identity_verified']:\n",
        "    mode_val = data_train[col].mode()[0]\n",
        "    data_train[col].fillna(mode_val, inplace=True)\n",
        "missing_per_col = data_train.isnull().sum()\n",
        "missing_with_values = missing_per_col[missing_per_col > 0]\n",
        "\n",
        "print(missing_with_values)"
      ]
    },
    {
      "cell_type": "markdown",
      "metadata": {
        "id": "bSyAq63kFMJY"
      },
      "source": [
        "- host_response_rateNettoyer   \n",
        "enlever le %, convertir en float, puis imputer par la médiane"
      ]
    },
    {
      "cell_type": "code",
      "execution_count": 10,
      "metadata": {
        "colab": {
          "base_uri": "https://localhost:8080/"
        },
        "id": "CFyCbRmoFLxV",
        "outputId": "ce5e269f-6cc0-477c-9c17-b69c7003c2df"
      },
      "outputs": [
        {
          "output_type": "stream",
          "name": "stdout",
          "text": [
            "host_since                56\n",
            "neighbourhood           2086\n",
            "review_scores_rating    4978\n",
            "zipcode                  303\n",
            "bedrooms                  26\n",
            "beds                      35\n",
            "dtype: int64\n"
          ]
        },
        {
          "output_type": "stream",
          "name": "stderr",
          "text": [
            "<ipython-input-10-4e6e14c88d64>:2: FutureWarning: A value is trying to be set on a copy of a DataFrame or Series through chained assignment using an inplace method.\n",
            "The behavior will change in pandas 3.0. This inplace method will never work because the intermediate object on which we are setting values always behaves as a copy.\n",
            "\n",
            "For example, when doing 'df[col].method(value, inplace=True)', try using 'df.method({col: value}, inplace=True)' or df[col] = df[col].method(value) instead, to perform the operation inplace on the original object.\n",
            "\n",
            "\n",
            "  data_train['host_response_rate'].fillna(data_train['host_response_rate'].median(), inplace=True)\n"
          ]
        }
      ],
      "source": [
        "data_train['host_response_rate'] = data_train['host_response_rate'].str.rstrip('%').astype(float)\n",
        "data_train['host_response_rate'].fillna(data_train['host_response_rate'].median(), inplace=True)\n",
        "\n",
        "missing_per_col = data_train.isnull().sum()\n",
        "missing_with_values = missing_per_col[missing_per_col > 0]\n",
        "\n",
        "print(missing_with_values)"
      ]
    },
    {
      "cell_type": "markdown",
      "metadata": {
        "id": "prxHr5XgFuYM"
      },
      "source": [
        "- host_since  \n",
        "Convertir en date, calculer une feature comme host_years_active = current_date - host_since, imputer avec la date la plus fréquente"
      ]
    },
    {
      "cell_type": "code",
      "execution_count": 11,
      "metadata": {
        "colab": {
          "base_uri": "https://localhost:8080/"
        },
        "id": "ws7TD661Fd7m",
        "outputId": "451105ec-7da2-4db5-d056-cad06d2bbc96"
      },
      "outputs": [
        {
          "output_type": "stream",
          "name": "stdout",
          "text": [
            "neighbourhood           2086\n",
            "review_scores_rating    4978\n",
            "zipcode                  303\n",
            "bedrooms                  26\n",
            "beds                      35\n",
            "dtype: int64\n"
          ]
        },
        {
          "output_type": "stream",
          "name": "stderr",
          "text": [
            "<ipython-input-11-31d30f81fbbf>:3: FutureWarning: A value is trying to be set on a copy of a DataFrame or Series through chained assignment using an inplace method.\n",
            "The behavior will change in pandas 3.0. This inplace method will never work because the intermediate object on which we are setting values always behaves as a copy.\n",
            "\n",
            "For example, when doing 'df[col].method(value, inplace=True)', try using 'df.method({col: value}, inplace=True)' or df[col] = df[col].method(value) instead, to perform the operation inplace on the original object.\n",
            "\n",
            "\n",
            "  data_train['host_years_active'].fillna(data_train['host_years_active'].median(), inplace=True)\n"
          ]
        }
      ],
      "source": [
        "data_train['host_since'] = pd.to_datetime(data_train['host_since'])\n",
        "data_train['host_years_active'] = (pd.to_datetime('today') - data_train['host_since']).dt.days // 365\n",
        "data_train['host_years_active'].fillna(data_train['host_years_active'].median(), inplace=True)\n",
        "data_train.drop(columns=['host_since'], inplace=True)\n",
        "\n",
        "missing_per_col = data_train.isnull().sum()\n",
        "missing_with_values = missing_per_col[missing_per_col > 0]\n",
        "\n",
        "print(missing_with_values)"
      ]
    },
    {
      "cell_type": "markdown",
      "metadata": {
        "id": "CyZrr6ClGD3d"
      },
      "source": [
        "- neighbourhood"
      ]
    },
    {
      "cell_type": "code",
      "execution_count": 12,
      "metadata": {
        "colab": {
          "base_uri": "https://localhost:8080/"
        },
        "id": "_b9S0WZlF-Uu",
        "outputId": "db72221d-f656-4e2c-840c-d307cbb0cad6"
      },
      "outputs": [
        {
          "output_type": "stream",
          "name": "stderr",
          "text": [
            "<ipython-input-12-df30ad513a90>:1: FutureWarning: A value is trying to be set on a copy of a DataFrame or Series through chained assignment using an inplace method.\n",
            "The behavior will change in pandas 3.0. This inplace method will never work because the intermediate object on which we are setting values always behaves as a copy.\n",
            "\n",
            "For example, when doing 'df[col].method(value, inplace=True)', try using 'df.method({col: value}, inplace=True)' or df[col] = df[col].method(value) instead, to perform the operation inplace on the original object.\n",
            "\n",
            "\n",
            "  data_train['neighbourhood'].fillna('unknown', inplace=True)\n"
          ]
        },
        {
          "output_type": "stream",
          "name": "stdout",
          "text": [
            "review_scores_rating    4978\n",
            "zipcode                  303\n",
            "bedrooms                  26\n",
            "beds                      35\n",
            "dtype: int64\n"
          ]
        }
      ],
      "source": [
        "data_train['neighbourhood'].fillna('unknown', inplace=True)\n",
        "\n",
        "missing_per_col = data_train.isnull().sum()\n",
        "missing_with_values = missing_per_col[missing_per_col > 0]\n",
        "\n",
        "print(missing_with_values)"
      ]
    },
    {
      "cell_type": "markdown",
      "metadata": {
        "id": "-7w52Ld2GhHv"
      },
      "source": [
        "- review_scores_rating   \n",
        "créer has_review_score, imputer par la médiane"
      ]
    },
    {
      "cell_type": "code",
      "execution_count": 13,
      "metadata": {
        "colab": {
          "base_uri": "https://localhost:8080/"
        },
        "id": "RQbkOz-aGLTc",
        "outputId": "433528c7-4491-4bc5-f5e8-cf3438e9b7f8"
      },
      "outputs": [
        {
          "output_type": "stream",
          "name": "stdout",
          "text": [
            "zipcode     303\n",
            "bedrooms     26\n",
            "beds         35\n",
            "dtype: int64\n"
          ]
        },
        {
          "output_type": "stream",
          "name": "stderr",
          "text": [
            "<ipython-input-13-adfc1245beab>:1: FutureWarning: A value is trying to be set on a copy of a DataFrame or Series through chained assignment using an inplace method.\n",
            "The behavior will change in pandas 3.0. This inplace method will never work because the intermediate object on which we are setting values always behaves as a copy.\n",
            "\n",
            "For example, when doing 'df[col].method(value, inplace=True)', try using 'df.method({col: value}, inplace=True)' or df[col] = df[col].method(value) instead, to perform the operation inplace on the original object.\n",
            "\n",
            "\n",
            "  data_train['review_scores_rating'].fillna(data_train['review_scores_rating'].median(), inplace=True)\n"
          ]
        }
      ],
      "source": [
        "data_train['review_scores_rating'].fillna(data_train['review_scores_rating'].median(), inplace=True)\n",
        "missing_per_col = data_train.isnull().sum()\n",
        "missing_with_values = missing_per_col[missing_per_col > 0]\n",
        "\n",
        "print(missing_with_values)"
      ]
    },
    {
      "cell_type": "markdown",
      "metadata": {
        "id": "FUy7ydZAG6bO"
      },
      "source": [
        "- zipcode   \n",
        "imputer par unkown"
      ]
    },
    {
      "cell_type": "code",
      "execution_count": 14,
      "metadata": {
        "colab": {
          "base_uri": "https://localhost:8080/"
        },
        "id": "qCcWEaAtGuEL",
        "outputId": "c86841f2-07e0-4c3a-da4c-b7bdc3a833ee"
      },
      "outputs": [
        {
          "output_type": "stream",
          "name": "stdout",
          "text": [
            "bedrooms    26\n",
            "beds        35\n",
            "dtype: int64\n"
          ]
        },
        {
          "output_type": "stream",
          "name": "stderr",
          "text": [
            "<ipython-input-14-afa1747eb7a9>:1: FutureWarning: A value is trying to be set on a copy of a DataFrame or Series through chained assignment using an inplace method.\n",
            "The behavior will change in pandas 3.0. This inplace method will never work because the intermediate object on which we are setting values always behaves as a copy.\n",
            "\n",
            "For example, when doing 'df[col].method(value, inplace=True)', try using 'df.method({col: value}, inplace=True)' or df[col] = df[col].method(value) instead, to perform the operation inplace on the original object.\n",
            "\n",
            "\n",
            "  data_train['zipcode'].fillna('unknown', inplace=True)\n"
          ]
        }
      ],
      "source": [
        "data_train['zipcode'].fillna('unknown', inplace=True)\n",
        "missing_per_col = data_train.isnull().sum()\n",
        "missing_with_values = missing_per_col[missing_per_col > 0]\n",
        "\n",
        "print(missing_with_values)"
      ]
    },
    {
      "cell_type": "markdown",
      "metadata": {
        "id": "u7iZqHuUHFEt"
      },
      "source": [
        "- bedrooms / beds   \n",
        "Imputation par la médiane"
      ]
    },
    {
      "cell_type": "code",
      "execution_count": 15,
      "metadata": {
        "colab": {
          "base_uri": "https://localhost:8080/"
        },
        "id": "Ft68W2nNHAc6",
        "outputId": "bad20aa7-1506-4de6-f896-3c5e3121bb3f"
      },
      "outputs": [
        {
          "output_type": "stream",
          "name": "stdout",
          "text": [
            "Series([], dtype: int64)\n"
          ]
        },
        {
          "output_type": "stream",
          "name": "stderr",
          "text": [
            "<ipython-input-15-9b8693109886>:1: FutureWarning: A value is trying to be set on a copy of a DataFrame or Series through chained assignment using an inplace method.\n",
            "The behavior will change in pandas 3.0. This inplace method will never work because the intermediate object on which we are setting values always behaves as a copy.\n",
            "\n",
            "For example, when doing 'df[col].method(value, inplace=True)', try using 'df.method({col: value}, inplace=True)' or df[col] = df[col].method(value) instead, to perform the operation inplace on the original object.\n",
            "\n",
            "\n",
            "  data_train['bedrooms'].fillna(data_train['bedrooms'].median(), inplace=True)\n",
            "<ipython-input-15-9b8693109886>:2: FutureWarning: A value is trying to be set on a copy of a DataFrame or Series through chained assignment using an inplace method.\n",
            "The behavior will change in pandas 3.0. This inplace method will never work because the intermediate object on which we are setting values always behaves as a copy.\n",
            "\n",
            "For example, when doing 'df[col].method(value, inplace=True)', try using 'df.method({col: value}, inplace=True)' or df[col] = df[col].method(value) instead, to perform the operation inplace on the original object.\n",
            "\n",
            "\n",
            "  data_train['beds'].fillna(data_train['beds'].median(), inplace=True)\n"
          ]
        }
      ],
      "source": [
        "data_train['bedrooms'].fillna(data_train['bedrooms'].median(), inplace=True)\n",
        "data_train['beds'].fillna(data_train['beds'].median(), inplace=True)\n",
        "missing_per_col = data_train.isnull().sum()\n",
        "missing_with_values = missing_per_col[missing_per_col > 0]\n",
        "\n",
        "print(missing_with_values)"
      ]
    },
    {
      "cell_type": "code",
      "execution_count": 16,
      "metadata": {
        "id": "fqG7ULugTUwR",
        "colab": {
          "base_uri": "https://localhost:8080/"
        },
        "outputId": "130954b4-beaf-490b-b4f9-72b6e2f37b17"
      },
      "outputs": [
        {
          "output_type": "stream",
          "name": "stdout",
          "text": [
            "Series([], dtype: int64)\n"
          ]
        }
      ],
      "source": [
        "data_train.drop(columns=['cleaning_fee'], inplace = True)\n",
        "missing_per_col = data_train.isnull().sum()\n",
        "missing_with_values = missing_per_col[missing_per_col > 0]\n",
        "\n",
        "print(missing_with_values)"
      ]
    },
    {
      "cell_type": "markdown",
      "metadata": {
        "id": "fKa7wOG5IA1Y"
      },
      "source": [
        "Plus de valeurs manquantes, on passe à la suite"
      ]
    },
    {
      "cell_type": "markdown",
      "metadata": {
        "id": "k_cySnumImg2"
      },
      "source": [
        "## Labellisation des variables non-numériques"
      ]
    },
    {
      "cell_type": "code",
      "execution_count": 17,
      "metadata": {
        "colab": {
          "base_uri": "https://localhost:8080/"
        },
        "id": "NxbkOwO-HMK0",
        "outputId": "d4121819-aa6b-448e-da69-3912674acfc9"
      },
      "outputs": [
        {
          "output_type": "stream",
          "name": "stdout",
          "text": [
            "Index(['property_type', 'room_type', 'amenities', 'bed_type',\n",
            "       'cancellation_policy', 'city', 'description', 'host_has_profile_pic',\n",
            "       'host_identity_verified', 'instant_bookable', 'name', 'neighbourhood',\n",
            "       'zipcode'],\n",
            "      dtype='object')\n"
          ]
        }
      ],
      "source": [
        "non_numeric_cols = data_train.select_dtypes(exclude=['int64', 'float64']).columns\n",
        "print(non_numeric_cols)"
      ]
    },
    {
      "cell_type": "code",
      "execution_count": 18,
      "metadata": {
        "colab": {
          "base_uri": "https://localhost:8080/"
        },
        "id": "WZOGubhZIz2L",
        "outputId": "13952ed0-f2f5-45f9-ec4b-4452303f0d74"
      },
      "outputs": [
        {
          "output_type": "stream",
          "name": "stdout",
          "text": [
            "Index(['property_type', 'amenities', 'cancellation_policy', 'city',\n",
            "       'description', 'host_has_profile_pic', 'host_identity_verified',\n",
            "       'instant_bookable', 'name', 'neighbourhood', 'zipcode',\n",
            "       'room_type_Private room', 'room_type_Shared room', 'bed_type_Couch',\n",
            "       'bed_type_Futon', 'bed_type_Pull-out Sofa', 'bed_type_Real Bed'],\n",
            "      dtype='object')\n"
          ]
        }
      ],
      "source": [
        "data_train = pd.get_dummies(data_train, columns=['room_type', 'bed_type'], drop_first=True)\n",
        "non_numeric_cols = data_train.select_dtypes(exclude=['int64', 'float64']).columns\n",
        "print(non_numeric_cols)"
      ]
    },
    {
      "cell_type": "code",
      "execution_count": 19,
      "metadata": {
        "colab": {
          "base_uri": "https://localhost:8080/"
        },
        "id": "MlLnfUiBMHey",
        "outputId": "817896e2-816d-4c7d-a88f-9e10b9fbbd4e"
      },
      "outputs": [
        {
          "output_type": "stream",
          "name": "stdout",
          "text": [
            "Index(['property_type', 'amenities', 'cancellation_policy', 'city',\n",
            "       'description', 'name', 'neighbourhood', 'zipcode',\n",
            "       'room_type_Private room', 'room_type_Shared room', 'bed_type_Couch',\n",
            "       'bed_type_Futon', 'bed_type_Pull-out Sofa', 'bed_type_Real Bed'],\n",
            "      dtype='object')\n"
          ]
        }
      ],
      "source": [
        "bool_cols = ['host_has_profile_pic', 'host_identity_verified', 'instant_bookable']\n",
        "for col in bool_cols:\n",
        "    data_train[col] = data_train[col].map({'t': 1, 'f': 0})\n",
        "\n",
        "non_numeric_cols = data_train.select_dtypes(exclude=['int64', 'float64']).columns\n",
        "print(non_numeric_cols)"
      ]
    },
    {
      "cell_type": "code",
      "execution_count": 20,
      "metadata": {
        "colab": {
          "base_uri": "https://localhost:8080/"
        },
        "id": "eGb7k50oPxgA",
        "outputId": "2a4ce828-bff4-43d5-e6ca-d551e9ec75b1"
      },
      "outputs": [
        {
          "output_type": "stream",
          "name": "stdout",
          "text": [
            "Index(['property_type', 'amenities', 'cancellation_policy', 'city',\n",
            "       'neighbourhood', 'zipcode', 'room_type_Private room',\n",
            "       'room_type_Shared room', 'bed_type_Couch', 'bed_type_Futon',\n",
            "       'bed_type_Pull-out Sofa', 'bed_type_Real Bed'],\n",
            "      dtype='object')\n"
          ]
        }
      ],
      "source": [
        "data_train['desc_length'] = data_train['description'].fillna('').apply(len)\n",
        "data_train['name_length'] = data_train['name'].fillna('').apply(len)\n",
        "data_train.drop(columns=['description', 'name'], inplace=True)  # sauf si NLP prévu\n",
        "\n",
        "non_numeric_cols = data_train.select_dtypes(exclude=['int64', 'float64']).columns\n",
        "print(non_numeric_cols)"
      ]
    },
    {
      "cell_type": "code",
      "execution_count": 21,
      "metadata": {
        "id": "BFYiaeHyRom3"
      },
      "outputs": [],
      "source": [
        "from sklearn.preprocessing import LabelEncoder"
      ]
    },
    {
      "cell_type": "code",
      "execution_count": 22,
      "metadata": {
        "colab": {
          "base_uri": "https://localhost:8080/"
        },
        "id": "Cwj3KS0bRY_V",
        "outputId": "7bba1953-6b84-4c83-95a8-71f7701a7aea"
      },
      "outputs": [
        {
          "output_type": "stream",
          "name": "stdout",
          "text": [
            "Index(['amenities', 'cancellation_policy'], dtype='object')\n"
          ]
        }
      ],
      "source": [
        "cat_cols = ['property_type','city','neighbourhood','zipcode','room_type_Private room','room_type_Shared room','bed_type_Couch', 'bed_type_Futon',\n",
        "       'bed_type_Pull-out Sofa', 'bed_type_Real Bed']\n",
        "for col in cat_cols:\n",
        "    le = LabelEncoder()\n",
        "    data_train[col] = data_train[col].astype(str).fillna(\"Missing\")  # conversion explicite en str\n",
        "    data_train[col] = le.fit_transform(data_train[col])\n",
        "\n",
        "non_numeric_cols = data_train.select_dtypes(exclude=['int64', 'float64']).columns\n",
        "print(non_numeric_cols)"
      ]
    },
    {
      "cell_type": "code",
      "execution_count": 23,
      "metadata": {
        "id": "WlnN3zcjSZKt"
      },
      "outputs": [],
      "source": [
        "data_train.drop(columns=['amenities', 'cancellation_policy'], inplace=True) # On enlève pour le moment"
      ]
    },
    {
      "cell_type": "code",
      "execution_count": 24,
      "metadata": {
        "colab": {
          "base_uri": "https://localhost:8080/"
        },
        "id": "fNe6LoJaSmYF",
        "outputId": "ea41376b-f935-408c-c5ae-da7092c7664e"
      },
      "outputs": [
        {
          "output_type": "stream",
          "name": "stdout",
          "text": [
            "Index([], dtype='object')\n"
          ]
        }
      ],
      "source": [
        "non_numeric_cols = data_train.select_dtypes(exclude=['int64', 'float64']).columns\n",
        "print(non_numeric_cols)"
      ]
    },
    {
      "cell_type": "markdown",
      "metadata": {
        "id": "fKNy_TG5POrZ"
      },
      "source": [
        "## Correlations"
      ]
    },
    {
      "cell_type": "code",
      "execution_count": 25,
      "metadata": {
        "id": "-biSqNjgML0L"
      },
      "outputs": [],
      "source": [
        "from sklearn.decomposition import PCA\n",
        "from sklearn.preprocessing import StandardScaler"
      ]
    },
    {
      "cell_type": "code",
      "execution_count": 26,
      "metadata": {
        "colab": {
          "base_uri": "https://localhost:8080/",
          "height": 855
        },
        "id": "89xo5PpIPQh-",
        "outputId": "b38e61d1-9493-420c-c037-7aafb4c461b1"
      },
      "outputs": [
        {
          "output_type": "display_data",
          "data": {
            "text/plain": [
              "<Figure size 1000x800 with 2 Axes>"
            ],
            "image/png": "[encoded data removed]"
          },
          "metadata": {}
        }
      ],
      "source": [
        "target_col = 'log_price'\n",
        "\n",
        "numerical_columns = data_train.select_dtypes(include=['int64', 'float64']).drop(columns=[target_col])\n",
        "scaler = StandardScaler()\n",
        "numerical_columns_scaled = scaler.fit_transform(numerical_columns)\n",
        "data_train_scaled = pd.DataFrame(numerical_columns_scaled, columns=numerical_columns.columns, index=data_train.index)\n",
        "data_train_scaled[target_col] = data_train[target_col]\n",
        "correlations = data_train_scaled.corr()\n",
        "\n",
        "plt.figure(figsize=(10, 8))\n",
        "plt.imshow(correlations, cmap='coolwarm', interpolation='nearest')\n",
        "plt.colorbar()\n",
        "plt.xticks(range(len(correlations)), correlations.columns, rotation=90)\n",
        "plt.yticks(range(len(correlations)), correlations.columns)\n",
        "plt.title('Correlation Heatmap of Normalized Features')\n",
        "plt.show()"
      ]
    },
    {
      "cell_type": "code",
      "execution_count": 27,
      "metadata": {
        "colab": {
          "base_uri": "https://localhost:8080/"
        },
        "id": "6ei4v42XTLs8",
        "outputId": "4aa307a8-a60b-4768-860e-64759d0f3022"
      },
      "outputs": [
        {
          "output_type": "stream",
          "name": "stdout",
          "text": [
            "                   feature  corr_with_results_x\n",
            "0             accommodates             0.564874\n",
            "1   room_type_Private room            -0.526310\n",
            "2                 bedrooms             0.472728\n",
            "3                     beds             0.435068\n",
            "4                bathrooms             0.368856\n",
            "5    room_type_Shared room            -0.221407\n",
            "6        bed_type_Real Bed             0.102379\n",
            "7         has_first_review            -0.096202\n",
            "8          has_last_review            -0.095994\n",
            "9     review_scores_rating             0.085310\n",
            "10          bed_type_Futon            -0.070902\n",
            "11       host_years_active             0.069754\n",
            "12             name_length             0.063846\n",
            "13             desc_length             0.047935\n",
            "14               longitude            -0.045348\n",
            "15           property_type             0.042389\n",
            "16        instant_bookable            -0.040482\n",
            "17       number_of_reviews            -0.039138\n",
            "18          bed_type_Couch            -0.038468\n",
            "19           neighbourhood             0.038004\n",
            "20  bed_type_Pull-out Sofa            -0.036233\n",
            "21                    city             0.035166\n",
            "22  host_identity_verified             0.030285\n",
            "23                 zipcode             0.019074\n",
            "24    host_has_profile_pic            -0.013117\n",
            "25      host_response_rate             0.005498\n",
            "26                latitude             0.005231\n",
            "27                      id            -0.002122\n"
          ]
        }
      ],
      "source": [
        "corr_matrix = correlations\n",
        "corr_with_target = corr_matrix['log_price'].drop('log_price')\n",
        "top = corr_with_target.reindex(corr_with_target.abs().sort_values(ascending=False).index).head(500)\n",
        "top_df = top.reset_index()\n",
        "top_df.columns = ['feature', 'corr_with_results_x']\n",
        "print(top_df)"
      ]
    },
    {
      "cell_type": "code",
      "execution_count": 28,
      "metadata": {
        "colab": {
          "base_uri": "https://localhost:8080/"
        },
        "id": "etm7IhwVTdoX",
        "outputId": "49beac02-cfbf-462e-9586-be413d80fbd4"
      },
      "outputs": [
        {
          "output_type": "stream",
          "name": "stdout",
          "text": [
            "                  feature  corr_with_results_x\n",
            "0            accommodates             0.564874\n",
            "1  room_type_Private room            -0.526310\n",
            "2                bedrooms             0.472728\n",
            "3                    beds             0.435068\n",
            "4               bathrooms             0.368856\n",
            "5   room_type_Shared room            -0.221407\n",
            "6       bed_type_Real Bed             0.102379\n"
          ]
        }
      ],
      "source": [
        "significant_corr = top_df[top_df['corr_with_results_x'].abs() > 0.1]\n",
        "\n",
        "print(significant_corr)"
      ]
    },
    {
      "cell_type": "markdown",
      "metadata": {
        "id": "pUREqNaaTsAN"
      },
      "source": [
        "## Modèles de prédiction"
      ]
    },
    {
      "cell_type": "markdown",
      "metadata": {
        "id": "qeY3hSWIVL66"
      },
      "source": [
        "Notre but ici sera de maximiser le score r²"
      ]
    },
    {
      "cell_type": "markdown",
      "metadata": {
        "id": "v7aGekrVTvGY"
      },
      "source": [
        "### Modèle 1"
      ]
    },
    {
      "cell_type": "code",
      "execution_count": 29,
      "metadata": {
        "id": "f6Rd6Mw8ToKI"
      },
      "outputs": [],
      "source": [
        "from sklearn.model_selection import train_test_split\n",
        "from sklearn.linear_model import LinearRegression\n",
        "from sklearn.metrics import mean_squared_error, mean_absolute_error, r2_score, make_scorer\n",
        "from sklearn.model_selection import GridSearchCV"
      ]
    },
    {
      "cell_type": "code",
      "execution_count": 30,
      "metadata": {
        "id": "OOCO_xJiTwLV"
      },
      "outputs": [],
      "source": [
        "# Pour afficher un comparatif des modèles\n",
        "results = []"
      ]
    },
    {
      "cell_type": "code",
      "execution_count": 31,
      "metadata": {
        "colab": {
          "base_uri": "https://localhost:8080/"
        },
        "id": "J_TPz1nETxL4",
        "outputId": "059bb372-549e-43da-94f3-6207af1eae6b"
      },
      "outputs": [
        {
          "output_type": "stream",
          "name": "stdout",
          "text": [
            "Mean Squared Error: 0.211\n",
            "Mean Absolute Error: 0.349\n",
            "R² Score: 0.587\n"
          ]
        }
      ],
      "source": [
        "features = top_df['feature']\n",
        "X = data_train[features].copy()\n",
        "\n",
        "y = data_train['log_price']\n",
        "\n",
        "X_train, X_test, y_train, y_test = train_test_split(X, y, test_size=0.1, random_state=0)\n",
        "\n",
        "model_1 = LinearRegression()\n",
        "model_1.fit(X_train, y_train)\n",
        "\n",
        "y_pred = model_1.predict(X_test)\n",
        "\n",
        "mse = mean_squared_error(y_test, y_pred)\n",
        "mae = mean_absolute_error(y_test, y_pred)\n",
        "r2 = r2_score(y_test, y_pred)\n",
        "\n",
        "print(f\"Mean Squared Error: {mse:.3f}\")\n",
        "print(f\"Mean Absolute Error: {mae:.3f}\")\n",
        "print(f\"R² Score: {r2:.3f}\")\n",
        "\n",
        "results.append({\n",
        "    'model': 'model_1 : Linear Regression',\n",
        "    'mse': mse,\n",
        "    'mae': mae,\n",
        "    'r2': r2\n",
        "})"
      ]
    },
    {
      "cell_type": "markdown",
      "metadata": {
        "id": "BZeJ6JFYVa2s"
      },
      "source": [
        "### Modèle 2"
      ]
    },
    {
      "cell_type": "code",
      "execution_count": 32,
      "metadata": {
        "id": "xO5JZgnWT_mW"
      },
      "outputs": [],
      "source": [
        "from sklearn.ensemble import RandomForestRegressor\n",
        "from sklearn.model_selection import GridSearchCV"
      ]
    },
    {
      "cell_type": "code",
      "execution_count": 33,
      "metadata": {
        "id": "k11LSjV6VaWr"
      },
      "outputs": [],
      "source": [
        "# param_grid = {\n",
        "#     'n_estimators': [100, 200],\n",
        "#     'max_depth': [10, 20],\n",
        "#     'min_samples_split': [2],\n",
        "#     'min_samples_leaf': [1],\n",
        "#     'max_features': ['sqrt', 'log2']\n",
        "# }\n",
        "\n",
        "# # Définir le modèle de base\n",
        "# rf = RandomForestRegressor(random_state=0, n_jobs=-1)\n",
        "\n",
        "# # Utiliser R² comme scoring\n",
        "# scorer = make_scorer(r2_score)\n",
        "\n",
        "# # Configurer la Grid Search\n",
        "# grid_search = GridSearchCV(\n",
        "#     estimator=rf,\n",
        "#     param_grid=param_grid,\n",
        "#     cv=3,\n",
        "#     scoring=scorer,\n",
        "#     verbose=1,\n",
        "#     n_jobs=-1\n",
        "# )\n",
        "\n",
        "# # Exécution\n",
        "# grid_search.fit(X_train, y_train)\n",
        "\n",
        "# # Meilleurs paramètres\n",
        "# print(\"Best parameters:\", grid_search.best_params_)\n",
        "\n",
        "# # Évaluer sur le test set\n",
        "# model_2 = grid_search.best_estimator_\n",
        "# y_pred = model_2.predict(X_test)\n",
        "\n",
        "# mse = mean_squared_error(y_test, y_pred)\n",
        "# mae = mean_absolute_error(y_test, y_pred)\n",
        "# r2 = r2_score(y_test, y_pred)\n",
        "\n",
        "# print(\"\\nRandom Forest (Best Model) Results:\")\n",
        "# print(f\"Mean Squared Error: {mse:.3f}\")\n",
        "# print(f\"Mean Absolute Error: {mae:.3f}\")\n",
        "# print(f\"R² Score (test set): {r2:.3f}\")\n",
        "\n",
        "# # Enregistrer les résultats\n",
        "# results.append({\n",
        "#     'model': 'RandomForestRegressor (Tuned)',\n",
        "#     'mse': mse,\n",
        "#     'mae': mae,\n",
        "#     'r2': r2\n",
        "# })"
      ]
    },
    {
      "cell_type": "markdown",
      "source": [
        "Résultats du grid search :   \n",
        "Best parameters: {'max_depth': 20, 'max_features': 'sqrt', 'min_samples_leaf': 1, 'min_samples_split': 2, 'n_estimators': 200}\n"
      ],
      "metadata": {
        "id": "9HJHUfkFsYdc"
      }
    },
    {
      "cell_type": "code",
      "source": [
        "model_2 = RandomForestRegressor(random_state=0, n_jobs=-1, max_depth=20, max_features='sqrt', min_samples_leaf=1, min_samples_split=2, n_estimators=200)\n",
        "model_2.fit(X_train, y_train)\n",
        "\n",
        "y_pred = model_2.predict(X_test)\n",
        "\n",
        "mse = mean_squared_error(y_test, y_pred)\n",
        "mae = mean_absolute_error(y_test, y_pred)\n",
        "r2 = r2_score(y_test, y_pred)\n",
        "\n",
        "print(\"\\nRandom Forest (Tuned) Results:\")\n",
        "print(f\"Mean Squared Error: {mse:.3f}\")\n",
        "print(f\"Mean Absolute Error: {mae:.3f}\")\n",
        "print(f\"R² Score (test set): {r2:.3f}\")\n",
        "\n",
        "results.append({\n",
        "    'model': 'RandomForestRegressor (Tuned)',\n",
        "    'mse': mse,\n",
        "    'mae': mae,\n",
        "    'r2': r2\n",
        "})"
      ],
      "metadata": {
        "colab": {
          "base_uri": "https://localhost:8080/"
        },
        "id": "HrIbi0irshcx",
        "outputId": "5d2b0c08-8604-47e0-88a7-232fdf7b3cdb"
      },
      "execution_count": 34,
      "outputs": [
        {
          "output_type": "stream",
          "name": "stdout",
          "text": [
            "\n",
            "Random Forest (Tuned) Results:\n",
            "Mean Squared Error: 0.157\n",
            "Mean Absolute Error: 0.291\n",
            "R² Score (test set): 0.693\n"
          ]
        }
      ]
    },
    {
      "cell_type": "markdown",
      "source": [
        "### Modèle 3"
      ],
      "metadata": {
        "id": "IqmYAmder2ly"
      }
    },
    {
      "cell_type": "code",
      "execution_count": 35,
      "metadata": {
        "id": "ug80qQwrVnCr"
      },
      "outputs": [],
      "source": [
        "from xgboost import XGBRegressor"
      ]
    },
    {
      "cell_type": "code",
      "source": [
        "# xgb = XGBRegressor(\n",
        "#     objective='reg:squarederror',\n",
        "#     n_jobs=-1,\n",
        "#     random_state=0,\n",
        "#     verbosity=1\n",
        "# )\n",
        "\n",
        "# param_grid = {\n",
        "#     'n_estimators': [100, 200],\n",
        "#     'max_depth': [3, 6, 9],\n",
        "#     'learning_rate': [0.01, 0.1],\n",
        "#     'subsample': [0.7, 1],\n",
        "#     'colsample_bytree': [0.7, 1]\n",
        "# }\n",
        "\n",
        "# grid_search = GridSearchCV(\n",
        "#     estimator=xgb,\n",
        "#     param_grid=param_grid,\n",
        "#     scoring=make_scorer(r2_score),\n",
        "#     cv=3,\n",
        "#     verbose=1,\n",
        "#     n_jobs=-1\n",
        "# )\n",
        "\n",
        "# grid_search.fit(X_train, y_train)\n",
        "\n",
        "# model_3 = grid_search.best_estimator_\n",
        "\n",
        "# y_pred = model_3.predict(X_test)\n",
        "\n",
        "# mse = mean_squared_error(y_test, y_pred)\n",
        "# mae = mean_absolute_error(y_test, y_pred)\n",
        "# r2 = r2_score(y_test, y_pred)\n",
        "\n",
        "# print(\"Best hyperparameters:\", grid_search.best_params_)\n",
        "# print(\"\\n XGBoost Results:\")\n",
        "# print(f\"Mean Squared Error: {mse:.3f}\")\n",
        "# print(f\"Mean Absolute Error: {mae:.3f}\")\n",
        "# print(f\"R² Score: {r2:.3f}\")\n",
        "\n",
        "# results.append({\n",
        "#     'model': 'XGBoost (Tuned)',\n",
        "#     'mse': mse,\n",
        "#     'mae': mae,\n",
        "#     'r2': r2\n",
        "# })"
      ],
      "metadata": {
        "id": "BWc4rQoZrv15"
      },
      "execution_count": 36,
      "outputs": []
    },
    {
      "cell_type": "markdown",
      "source": [
        "Résultats grid_search :   \n",
        "Best hyperparameters: {'colsample_bytree': 0.7, 'learning_rate': 0.1, 'max_depth': 6, 'n_estimators': 200, 'subsample': 1}"
      ],
      "metadata": {
        "id": "3rHZwlNxtMuL"
      }
    },
    {
      "cell_type": "code",
      "source": [
        "model_3 = XGBRegressor(\n",
        "    objective='reg:squarederror',\n",
        "    n_jobs=-1,\n",
        "    random_state=0,\n",
        "    verbosity=1,\n",
        "    colsample_bytree=0.7,\n",
        "    learning_rate=0.1,\n",
        "    max_depth=6,\n",
        "    n_estimators=200,\n",
        "    subsample=1\n",
        ")\n",
        "\n",
        "model_3.fit(X_train, y_train)\n",
        "\n",
        "y_pred = model_3.predict(X_test)\n",
        "\n",
        "mse = mean_squared_error(y_test, y_pred)\n",
        "mae = mean_absolute_error(y_test, y_pred)\n",
        "r2 = r2_score(y_test, y_pred)\n",
        "\n",
        "print(\"\\nXGBoost (Tuned) Results:\")\n",
        "print(f\"Mean Squared Error: {mse:.3f}\")\n",
        "print(f\"Mean Absolute Error: {mae:.3f}\")\n",
        "print(f\"R² Score: {r2:.3f}\")\n",
        "\n",
        "results.append({\n",
        "    'model': 'XGBoost (Tuned)',\n",
        "    'mse': mse,\n",
        "    'mae': mae,\n",
        "    'r2': r2\n",
        "})"
      ],
      "metadata": {
        "colab": {
          "base_uri": "https://localhost:8080/"
        },
        "id": "jtB4017JsNk5",
        "outputId": "04a0050f-718e-4caa-9540-f6578e5bfa22"
      },
      "execution_count": 37,
      "outputs": [
        {
          "output_type": "stream",
          "name": "stdout",
          "text": [
            "\n",
            "XGBoost (Tuned) Results:\n",
            "Mean Squared Error: 0.146\n",
            "Mean Absolute Error: 0.278\n",
            "R² Score: 0.713\n"
          ]
        }
      ]
    },
    {
      "cell_type": "markdown",
      "source": [
        "### Modèle 4"
      ],
      "metadata": {
        "id": "QK_6yyo2uBbH"
      }
    },
    {
      "cell_type": "code",
      "source": [
        "from lightgbm import LGBMRegressor"
      ],
      "metadata": {
        "id": "T7pBUNrPtk69"
      },
      "execution_count": 38,
      "outputs": []
    },
    {
      "cell_type": "code",
      "source": [
        "# lgbm = LGBMRegressor(\n",
        "#     random_state=0,\n",
        "#     n_jobs=-1,\n",
        "#     objective='regression'\n",
        "# )\n",
        "\n",
        "# # Grille de paramètres à tester\n",
        "# param_grid = {\n",
        "#     'n_estimators': [100, 200],\n",
        "#     'learning_rate': [0.01, 0.1],\n",
        "#     'max_depth': [-1, 6, 9],\n",
        "#     'num_leaves': [31, 50],\n",
        "#     'subsample': [0.7, 1],\n",
        "#     'colsample_bytree': [0.7, 1]\n",
        "# }\n",
        "\n",
        "# # Définir le scoring\n",
        "# scorer = make_scorer(r2_score)\n",
        "\n",
        "# # GridSearch\n",
        "# grid_search = GridSearchCV(\n",
        "#     estimator=lgbm,\n",
        "#     param_grid=param_grid,\n",
        "#     scoring=scorer,\n",
        "#     cv=3,\n",
        "#     verbose=1,\n",
        "#     n_jobs=-1\n",
        "# )\n",
        "\n",
        "# # Entraînement\n",
        "# grid_search.fit(X_train, y_train)\n",
        "\n",
        "# # Meilleur modèle\n",
        "# best_lgbm = grid_search.best_estimator_\n",
        "\n",
        "# # Prédictions\n",
        "# y_pred = best_lgbm.predict(X_test)\n",
        "\n",
        "# # Évaluation\n",
        "# mse = mean_squared_error(y_test, y_pred)\n",
        "# mae = mean_absolute_error(y_test, y_pred)\n",
        "# r2 = r2_score(y_test, y_pred)\n",
        "\n",
        "# print(\"Best hyperparameters:\", grid_search.best_params_)\n",
        "# print(\"\\nLightGBM Results:\")\n",
        "# print(f\"Mean Squared Error: {mse:.3f}\")\n",
        "# print(f\"Mean Absolute Error: {mae:.3f}\")\n",
        "# print(f\"R² Score: {r2:.3f}\")"
      ],
      "metadata": {
        "id": "eLOCVtp6uA0C"
      },
      "execution_count": 39,
      "outputs": []
    },
    {
      "cell_type": "markdown",
      "source": [
        "Résultats grid search :   \n",
        "Best hyperparameters: {'colsample_bytree': 0.7, 'learning_rate': 0.1, 'max_depth': 6, 'n_estimators': 200, 'num_leaves': 31, 'subsample': 0.7}"
      ],
      "metadata": {
        "id": "wWJr0pUhuIBT"
      }
    },
    {
      "cell_type": "code",
      "source": [
        "model_4 = LGBMRegressor(\n",
        "    random_state=0,\n",
        "    n_jobs=-1,\n",
        "    objective='regression',\n",
        "    colsample_bytree=0.7,\n",
        "    learning_rate=0.1,\n",
        "    max_depth=6,\n",
        "    n_estimators=200,\n",
        "    num_leaves=31,\n",
        "    subsample=0.7\n",
        ")\n",
        "\n",
        "model_4.fit(X_train, y_train)\n",
        "\n",
        "y_pred = model_4.predict(X_test)\n",
        "\n",
        "mse = mean_squared_error(y_test, y_pred)\n",
        "mae = mean_absolute_error(y_test, y_pred)\n",
        "r2 = r2_score(y_test, y_pred)\n",
        "\n",
        "print(\"\\nLightGBM Results:\")\n",
        "print(f\"Mean Squared Error: {mse:.3f}\")\n",
        "print(f\"Mean Absolute Error: {mae:.3f}\")\n",
        "print(f\"R² Score: {r2:.3f}\")\n",
        "\n",
        "results.append({\n",
        "    'model': 'LightGBM (Tuned)',\n",
        "    'mse': mse,\n",
        "    'mae': mae,\n",
        "    'r2': r2\n",
        "})"
      ],
      "metadata": {
        "colab": {
          "base_uri": "https://localhost:8080/"
        },
        "id": "YB7x4v6juGwj",
        "outputId": "76ea00a4-742b-4270-8eb5-831658fde8c4"
      },
      "execution_count": 40,
      "outputs": [
        {
          "output_type": "stream",
          "name": "stdout",
          "text": [
            "[LightGBM] [Warning] Found whitespace in feature_names, replace with underlines\n",
            "[LightGBM] [Info] Auto-choosing row-wise multi-threading, the overhead of testing was 0.016623 seconds.\n",
            "You can set `force_row_wise=true` to remove the overhead.\n",
            "And if memory is not enough, you can set `force_col_wise=true`.\n",
            "[LightGBM] [Info] Total Bins 2019\n",
            "[LightGBM] [Info] Number of data points in the train set: 20010, number of used features: 28\n",
            "[LightGBM] [Info] Start training from score 4.784666\n",
            "[LightGBM] [Warning] No further splits with positive gain, best gain: -inf\n",
            "[LightGBM] [Warning] No further splits with positive gain, best gain: -inf\n",
            "[LightGBM] [Warning] No further splits with positive gain, best gain: -inf\n",
            "[LightGBM] [Warning] No further splits with positive gain, best gain: -inf\n",
            "[LightGBM] [Warning] No further splits with positive gain, best gain: -inf\n",
            "[LightGBM] [Warning] No further splits with positive gain, best gain: -inf\n",
            "[LightGBM] [Warning] No further splits with positive gain, best gain: -inf\n",
            "[LightGBM] [Warning] No further splits with positive gain, best gain: -inf\n",
            "[LightGBM] [Warning] No further splits with positive gain, best gain: -inf\n",
            "[LightGBM] [Warning] No further splits with positive gain, best gain: -inf\n",
            "[LightGBM] [Warning] No further splits with positive gain, best gain: -inf\n",
            "[LightGBM] [Warning] No further splits with positive gain, best gain: -inf\n",
            "[LightGBM] [Warning] No further splits with positive gain, best gain: -inf\n",
            "[LightGBM] [Warning] No further splits with positive gain, best gain: -inf\n",
            "[LightGBM] [Warning] No further splits with positive gain, best gain: -inf\n",
            "[LightGBM] [Warning] No further splits with positive gain, best gain: -inf\n",
            "[LightGBM] [Warning] No further splits with positive gain, best gain: -inf\n",
            "[LightGBM] [Warning] No further splits with positive gain, best gain: -inf\n",
            "[LightGBM] [Warning] No further splits with positive gain, best gain: -inf\n",
            "[LightGBM] [Warning] No further splits with positive gain, best gain: -inf\n",
            "[LightGBM] [Warning] No further splits with positive gain, best gain: -inf\n",
            "[LightGBM] [Warning] No further splits with positive gain, best gain: -inf\n",
            "[LightGBM] [Warning] No further splits with positive gain, best gain: -inf\n",
            "[LightGBM] [Warning] No further splits with positive gain, best gain: -inf\n",
            "[LightGBM] [Warning] No further splits with positive gain, best gain: -inf\n",
            "[LightGBM] [Warning] No further splits with positive gain, best gain: -inf\n",
            "[LightGBM] [Warning] No further splits with positive gain, best gain: -inf\n",
            "[LightGBM] [Warning] No further splits with positive gain, best gain: -inf\n",
            "[LightGBM] [Warning] No further splits with positive gain, best gain: -inf\n",
            "[LightGBM] [Warning] No further splits with positive gain, best gain: -inf\n",
            "[LightGBM] [Warning] No further splits with positive gain, best gain: -inf\n",
            "[LightGBM] [Warning] No further splits with positive gain, best gain: -inf\n",
            "[LightGBM] [Warning] No further splits with positive gain, best gain: -inf\n",
            "[LightGBM] [Warning] No further splits with positive gain, best gain: -inf\n",
            "[LightGBM] [Warning] No further splits with positive gain, best gain: -inf\n",
            "[LightGBM] [Warning] No further splits with positive gain, best gain: -inf\n",
            "[LightGBM] [Warning] No further splits with positive gain, best gain: -inf\n",
            "[LightGBM] [Warning] No further splits with positive gain, best gain: -inf\n",
            "[LightGBM] [Warning] No further splits with positive gain, best gain: -inf\n",
            "[LightGBM] [Warning] No further splits with positive gain, best gain: -inf\n",
            "[LightGBM] [Warning] No further splits with positive gain, best gain: -inf\n",
            "[LightGBM] [Warning] No further splits with positive gain, best gain: -inf\n",
            "[LightGBM] [Warning] No further splits with positive gain, best gain: -inf\n",
            "[LightGBM] [Warning] No further splits with positive gain, best gain: -inf\n",
            "[LightGBM] [Warning] No further splits with positive gain, best gain: -inf\n",
            "[LightGBM] [Warning] No further splits with positive gain, best gain: -inf\n",
            "[LightGBM] [Warning] No further splits with positive gain, best gain: -inf\n",
            "[LightGBM] [Warning] No further splits with positive gain, best gain: -inf\n",
            "[LightGBM] [Warning] No further splits with positive gain, best gain: -inf\n",
            "[LightGBM] [Warning] No further splits with positive gain, best gain: -inf\n",
            "[LightGBM] [Warning] No further splits with positive gain, best gain: -inf\n",
            "[LightGBM] [Warning] No further splits with positive gain, best gain: -inf\n",
            "[LightGBM] [Warning] No further splits with positive gain, best gain: -inf\n",
            "[LightGBM] [Warning] No further splits with positive gain, best gain: -inf\n",
            "[LightGBM] [Warning] No further splits with positive gain, best gain: -inf\n",
            "[LightGBM] [Warning] No further splits with positive gain, best gain: -inf\n",
            "\n",
            "LightGBM Results:\n",
            "Mean Squared Error: 0.144\n",
            "Mean Absolute Error: 0.278\n",
            "R² Score: 0.718\n"
          ]
        }
      ]
    },
    {
      "cell_type": "markdown",
      "source": [
        "### Modèle 5"
      ],
      "metadata": {
        "id": "f4JcTzn9yYF6"
      }
    },
    {
      "cell_type": "code",
      "source": [
        "!pip install catboost"
      ],
      "metadata": {
        "colab": {
          "base_uri": "https://localhost:8080/"
        },
        "id": "sOmS8-0OyrAD",
        "outputId": "9835977c-81a4-416e-e228-c9c6b02d5e46"
      },
      "execution_count": 41,
      "outputs": [
        {
          "output_type": "stream",
          "name": "stdout",
          "text": [
            "Requirement already satisfied: catboost in /usr/local/lib/python3.11/dist-packages (1.2.8)\n",
            "Requirement already satisfied: graphviz in /usr/local/lib/python3.11/dist-packages (from catboost) (0.20.3)\n",
            "Requirement already satisfied: matplotlib in /usr/local/lib/python3.11/dist-packages (from catboost) (3.10.0)\n",
            "Requirement already satisfied: numpy<3.0,>=1.16.0 in /usr/local/lib/python3.11/dist-packages (from catboost) (2.0.2)\n",
            "Requirement already satisfied: pandas>=0.24 in /usr/local/lib/python3.11/dist-packages (from catboost) (2.2.2)\n",
            "Requirement already satisfied: scipy in /usr/local/lib/python3.11/dist-packages (from catboost) (1.15.3)\n",
            "Requirement already satisfied: plotly in /usr/local/lib/python3.11/dist-packages (from catboost) (5.24.1)\n",
            "Requirement already satisfied: six in /usr/local/lib/python3.11/dist-packages (from catboost) (1.17.0)\n",
            "Requirement already satisfied: python-dateutil>=2.8.2 in /usr/local/lib/python3.11/dist-packages (from pandas>=0.24->catboost) (2.9.0.post0)\n",
            "Requirement already satisfied: pytz>=2020.1 in /usr/local/lib/python3.11/dist-packages (from pandas>=0.24->catboost) (2025.2)\n",
            "Requirement already satisfied: tzdata>=2022.7 in /usr/local/lib/python3.11/dist-packages (from pandas>=0.24->catboost) (2025.2)\n",
            "Requirement already satisfied: contourpy>=1.0.1 in /usr/local/lib/python3.11/dist-packages (from matplotlib->catboost) (1.3.2)\n",
            "Requirement already satisfied: cycler>=0.10 in /usr/local/lib/python3.11/dist-packages (from matplotlib->catboost) (0.12.1)\n",
            "Requirement already satisfied: fonttools>=4.22.0 in /usr/local/lib/python3.11/dist-packages (from matplotlib->catboost) (4.58.0)\n",
            "Requirement already satisfied: kiwisolver>=1.3.1 in /usr/local/lib/python3.11/dist-packages (from matplotlib->catboost) (1.4.8)\n",
            "Requirement already satisfied: packaging>=20.0 in /usr/local/lib/python3.11/dist-packages (from matplotlib->catboost) (24.2)\n",
            "Requirement already satisfied: pillow>=8 in /usr/local/lib/python3.11/dist-packages (from matplotlib->catboost) (11.2.1)\n",
            "Requirement already satisfied: pyparsing>=2.3.1 in /usr/local/lib/python3.11/dist-packages (from matplotlib->catboost) (3.2.3)\n",
            "Requirement already satisfied: tenacity>=6.2.0 in /usr/local/lib/python3.11/dist-packages (from plotly->catboost) (9.1.2)\n"
          ]
        }
      ]
    },
    {
      "cell_type": "code",
      "source": [
        "from catboost import CatBoostRegressor"
      ],
      "metadata": {
        "id": "jW8tUNe-yot1"
      },
      "execution_count": 42,
      "outputs": []
    },
    {
      "cell_type": "code",
      "source": [
        "# # Base model\n",
        "# cat_model = CatBoostRegressor(\n",
        "#     silent=True,\n",
        "#     random_state=0\n",
        "# )\n",
        "\n",
        "# # Paramètres à tester\n",
        "# cat_params = {\n",
        "#     'iterations': [100, 200],\n",
        "#     'learning_rate': [0.01, 0.1],\n",
        "#     'depth': [4, 6, 8],\n",
        "#     'l2_leaf_reg': [1, 3]\n",
        "# }\n",
        "\n",
        "# # GridSearchCV\n",
        "# grid_cat = GridSearchCV(\n",
        "#     estimator=cat_model,\n",
        "#     param_grid=cat_params,\n",
        "#     scoring=make_scorer(r2_score),\n",
        "#     cv=3,\n",
        "#     verbose=1,\n",
        "#     n_jobs=-1\n",
        "# )\n",
        "\n",
        "# # Entraînement\n",
        "# grid_cat.fit(X_train, y_train)\n",
        "\n",
        "# # Évaluation\n",
        "# cat_best = grid_cat.best_estimator_\n",
        "# y_pred_cat = cat_best.predict(X_test)\n",
        "\n",
        "# mse = mean_squared_error(y_test, y_pred_cat)\n",
        "# mae = mean_absolute_error(y_test, y_pred_cat)\n",
        "# r2 = r2_score(y_test, y_pred_cat)\n",
        "\n",
        "# print(\"CatBoost best params:\", grid_cat.best_params_)\n",
        "# print(\"\\nCatBoost Results:\")\n",
        "# print(f\"Mean Squared Error: {mse:.3f}\")\n",
        "# print(f\"Mean Absolute Error: {mae:.3f}\")\n",
        "# print(f\"R² Score: {r2:.3f}\")"
      ],
      "metadata": {
        "id": "Ze6wR0a7xLd5"
      },
      "execution_count": 43,
      "outputs": []
    },
    {
      "cell_type": "markdown",
      "source": [
        "Résultats grid search :    \n",
        "CatBoost best params: {'depth': 8, 'iterations': 200, 'l2_leaf_reg': 1, 'learning_rate': 0.1}"
      ],
      "metadata": {
        "id": "ijMMymaQz-Vb"
      }
    },
    {
      "cell_type": "code",
      "source": [
        "model_5 = CatBoostRegressor(\n",
        "    silent=True,\n",
        "    random_state=0,\n",
        "    depth=8,\n",
        "    iterations=200,\n",
        "    l2_leaf_reg=1,\n",
        "    learning_rate=0.1\n",
        ")\n",
        "\n",
        "model_5.fit(X_train, y_train)\n",
        "\n",
        "y_pred = model_5.predict(X_test)\n",
        "\n",
        "mse = mean_squared_error(y_test, y_pred)\n",
        "mae = mean_absolute_error(y_test, y_pred)\n",
        "r2 = r2_score(y_test, y_pred)\n",
        "\n",
        "print(\"\\nCatBoost Results:\")\n",
        "print(f\"Mean Squared Error: {mse:.3f}\")\n",
        "print(f\"Mean Absolute Error: {mae:.3f}\")\n",
        "print(f\"R² Score: {r2:.3f}\")\n",
        "\n",
        "results.append({\n",
        "    'model': 'CatBoost (Tuned)',\n",
        "    'mse': mse,\n",
        "    'mae': mae,\n",
        "    'r2': r2\n",
        "})"
      ],
      "metadata": {
        "colab": {
          "base_uri": "https://localhost:8080/"
        },
        "id": "QpPAtF8RynBo",
        "outputId": "4fc255ca-43e9-411e-e311-199c37e0c04d"
      },
      "execution_count": 44,
      "outputs": [
        {
          "output_type": "stream",
          "name": "stdout",
          "text": [
            "\n",
            "CatBoost Results:\n",
            "Mean Squared Error: 0.146\n",
            "Mean Absolute Error: 0.280\n",
            "R² Score: 0.714\n"
          ]
        }
      ]
    },
    {
      "cell_type": "markdown",
      "source": [
        "### Modèle 6"
      ],
      "metadata": {
        "id": "uGkoFO1w0hQg"
      }
    },
    {
      "cell_type": "code",
      "source": [
        "from sklearn.ensemble import HistGradientBoostingRegressor"
      ],
      "metadata": {
        "id": "nsljGZx60Z6m"
      },
      "execution_count": 45,
      "outputs": []
    },
    {
      "cell_type": "code",
      "source": [
        "# hist_model = HistGradientBoostingRegressor(\n",
        "#     random_state=0\n",
        "# )\n",
        "\n",
        "# # Paramètres à tester\n",
        "# hist_params = {\n",
        "#     'learning_rate': [0.01, 0.1],\n",
        "#     'max_iter': [100, 200],\n",
        "#     'max_depth': [None, 6, 9],\n",
        "#     'l2_regularization': [0.0, 1.0]\n",
        "# }\n",
        "\n",
        "# # GridSearchCV\n",
        "# grid_hist = GridSearchCV(\n",
        "#     estimator=hist_model,\n",
        "#     param_grid=hist_params,\n",
        "#     scoring=make_scorer(r2_score),\n",
        "#     cv=3,\n",
        "#     verbose=1,\n",
        "#     n_jobs=-1\n",
        "# )\n",
        "\n",
        "# # Entraînement\n",
        "# grid_hist.fit(X_train, y_train)\n",
        "\n",
        "# # Évaluation\n",
        "# hist_best = grid_hist.best_estimator_\n",
        "# y_pred_hist = hist_best.predict(X_test)\n",
        "\n",
        "# mse = mean_squared_error(y_test, y_pred_hist)\n",
        "# mae = mean_absolute_error(y_test, y_pred_hist)\n",
        "# r2 = r2_score(y_test, y_pred_hist)\n",
        "\n",
        "# print(\"HistGradientBoosting best params:\", grid_hist.best_params_)\n",
        "# print(\"\\nHistGradientBoosting Results:\")\n",
        "# print(f\"Mean Squared Error: {mse:.3f}\")\n",
        "# print(f\"Mean Absolute Error: {mae:.3f}\")\n",
        "# print(f\"R² Score: {r2:.3f}\")"
      ],
      "metadata": {
        "id": "-RnN0bH90iaF"
      },
      "execution_count": 46,
      "outputs": []
    },
    {
      "cell_type": "markdown",
      "source": [
        "Résultats grid search :    \n",
        "HistGradientBoosting best params: {'l2_regularization': 0.0, 'learning_rate': 0.1, 'max_depth': 6, 'max_iter': 200}"
      ],
      "metadata": {
        "id": "vfGGDpXC1Edu"
      }
    },
    {
      "cell_type": "code",
      "source": [
        "model_6 = HistGradientBoostingRegressor(\n",
        "    random_state=0,\n",
        "    learning_rate=0.1,\n",
        "    max_depth=6,\n",
        "    max_iter=200,\n",
        "    l2_regularization=0.0\n",
        ")\n",
        "\n",
        "model_6.fit(X_train, y_train)\n",
        "\n",
        "y_pred = model_6.predict(X_test)\n",
        "\n",
        "mse = mean_squared_error(y_test, y_pred)\n",
        "mae = mean_absolute_error(y_test, y_pred)\n",
        "r2 = r2_score(y_test, y_pred)\n",
        "\n",
        "print(\"\\nHistGradientBoosting Results:\")\n",
        "print(f\"Mean Squared Error: {mse:.3f}\")\n",
        "print(f\"Mean Absolute Error: {mae:.3f}\")\n",
        "print(f\"R² Score: {r2:.3f}\")\n",
        "\n",
        "results.append({\n",
        "    'model': 'HistGradientBoosting (Tuned)',\n",
        "    'mse': mse,\n",
        "    'mae': mae,\n",
        "    'r2': r2\n",
        "})"
      ],
      "metadata": {
        "colab": {
          "base_uri": "https://localhost:8080/"
        },
        "id": "6F6ckRF_0l2v",
        "outputId": "bed603cf-2548-4aa6-e6dc-a0155837b770"
      },
      "execution_count": 47,
      "outputs": [
        {
          "output_type": "stream",
          "name": "stdout",
          "text": [
            "\n",
            "HistGradientBoosting Results:\n",
            "Mean Squared Error: 0.144\n",
            "Mean Absolute Error: 0.278\n",
            "R² Score: 0.717\n"
          ]
        }
      ]
    },
    {
      "cell_type": "markdown",
      "source": [
        "### Modèle 7"
      ],
      "metadata": {
        "id": "2uV4S3Jg1KVe"
      }
    },
    {
      "cell_type": "code",
      "source": [
        "from sklearn.ensemble import StackingRegressor\n",
        "from sklearn.linear_model import RidgeCV"
      ],
      "metadata": {
        "id": "qoGq3WM11CDf"
      },
      "execution_count": 48,
      "outputs": []
    },
    {
      "cell_type": "code",
      "source": [
        "# Liste des modèles de base\n",
        "estimators = [\n",
        "    ('model_2', model_2),\n",
        "    ('model_3', model_3),\n",
        "    ('model_4', model_4),\n",
        "    ('model_5', model_5),\n",
        "    ('model_6', model_6)\n",
        "]\n",
        "\n",
        "# Métamodèle (RidgeCV = régularisé + cross-validé)\n",
        "stacking_model = StackingRegressor(\n",
        "    estimators=estimators,\n",
        "    final_estimator=RidgeCV(),\n",
        "    n_jobs=-1\n",
        ")\n",
        "\n",
        "# Entraînement sur le training set\n",
        "stacking_model.fit(X_train, y_train)\n",
        "\n",
        "# Prédiction sur le test set\n",
        "y_pred_stack = stacking_model.predict(X_test)\n",
        "\n",
        "# Évaluation\n",
        "mse = mean_squared_error(y_test, y_pred_stack)\n",
        "mae = mean_absolute_error(y_test, y_pred_stack)\n",
        "r2 = r2_score(y_test, y_pred_stack)\n",
        "\n",
        "print(\"\\nStacking Model Results:\")\n",
        "print(f\"Mean Squared Error: {mse:.3f}\")\n",
        "print(f\"Mean Absolute Error: {mae:.3f}\")\n",
        "print(f\"R² Score: {r2:.3f}\")\n",
        "\n",
        "# Stocker les résultats\n",
        "results.append({\n",
        "    'model': 'Stacking (Models 2–6)',\n",
        "    'mse': mse,\n",
        "    'mae': mae,\n",
        "    'r2': r2\n",
        "})"
      ],
      "metadata": {
        "colab": {
          "base_uri": "https://localhost:8080/"
        },
        "id": "jO83RxHI2hTN",
        "outputId": "30ce6ac5-f421-4326-e9aa-ef0a7a77dc05"
      },
      "execution_count": 49,
      "outputs": [
        {
          "output_type": "stream",
          "name": "stdout",
          "text": [
            "\n",
            "Stacking Model Results:\n",
            "Mean Squared Error: 0.142\n",
            "Mean Absolute Error: 0.275\n",
            "R² Score: 0.721\n"
          ]
        }
      ]
    },
    {
      "cell_type": "code",
      "source": [
        "df_results = pd.DataFrame(results).sort_values('r2', ascending=False)\n",
        "\n",
        "plt.figure(figsize=(10, 6))\n",
        "bars = plt.barh(df_results['model'], df_results['r2'], color='skyblue')\n",
        "\n",
        "for bar, acc in zip(bars, df_results['r2']):\n",
        "    plt.text(\n",
        "        bar.get_width() + 0.005,\n",
        "        bar.get_y() + bar.get_height() / 2,\n",
        "        f\"{acc:.3f}\",\n",
        "        va='center'\n",
        "    )\n",
        "\n",
        "plt.xlabel('Accuracy')\n",
        "plt.title('Comparaison des accuracies des modèles')\n",
        "plt.xlim(0, 1)\n",
        "plt.gca().invert_yaxis()\n",
        "plt.grid(axis='x', linestyle='--', alpha=0.5)\n",
        "plt.show()"
      ],
      "metadata": {
        "colab": {
          "base_uri": "https://localhost:8080/",
          "height": 565
        },
        "id": "qgRJyFcS2n5R",
        "outputId": "d24b0c2f-9a4e-4742-c855-504f09e4a21e"
      },
      "execution_count": 53,
      "outputs": [
        {
          "output_type": "display_data",
          "data": {
            "text/plain": [
              "<Figure size 1000x600 with 1 Axes>"
            ],
            "image/png": "[encoded data removed]"
          },
          "metadata": {}
        }
      ]
    },
    {
      "cell_type": "code",
      "source": [
        "for model, acc in df_results[['model', 'r2']].values:\n",
        "    print(f\"{model} : R² = {acc:.3f}\")"
      ],
      "metadata": {
        "colab": {
          "base_uri": "https://localhost:8080/"
        },
        "id": "gVGRlG_44aMC",
        "outputId": "fec06fff-a552-4bbf-b018-0cfacafef6a6"
      },
      "execution_count": 54,
      "outputs": [
        {
          "output_type": "stream",
          "name": "stdout",
          "text": [
            "Stacking (Models 2–6) : R² = 0.721\n",
            "LightGBM (Tuned) : R² = 0.718\n",
            "HistGradientBoosting (Tuned) : R² = 0.717\n",
            "CatBoost (Tuned) : R² = 0.714\n",
            "XGBoost (Tuned) : R² = 0.713\n",
            "RandomForestRegressor (Tuned) : R² = 0.693\n",
            "model_1 : Linear Regression : R² = 0.587\n"
          ]
        }
      ]
    },
    {
      "cell_type": "code",
      "source": [
        "# Convertir y_test en DataFrame pour échantillonnage synchronisé\n",
        "sample_df = pd.DataFrame({\n",
        "    'y_true': y_test,\n",
        "    'y_pred': stacking_model.predict(X_test)\n",
        "})\n",
        "\n",
        "# Tirer un échantillon aléatoire de 30 lignes\n",
        "sample = sample_df.sample(n=30, random_state=0).reset_index(drop=True)\n",
        "\n",
        "# Calcul de l'erreur absolue\n",
        "sample['abs_error'] = np.abs(sample['y_true'] - sample['y_pred'])\n",
        "\n",
        "# Masques\n",
        "well_predicted = sample['abs_error'] < 0.2\n",
        "poorly_predicted = ~well_predicted\n",
        "\n",
        "# Tracer\n",
        "plt.figure(figsize=(12, 6))\n",
        "\n",
        "# 🔵 Prix réels\n",
        "plt.scatter(sample.index, sample['y_true'], color='blue', label='Prix réel', s=60)\n",
        "\n",
        "# 🟢 Bien prédits\n",
        "plt.scatter(sample.index[well_predicted], sample['y_pred'][well_predicted],\n",
        "            color='green', label='Prix prédit (correct)', s=60)\n",
        "\n",
        "# 🔴 Mal prédits\n",
        "plt.scatter(sample.index[poorly_predicted], sample['y_pred'][poorly_predicted],\n",
        "            color='red', label='Prix prédit (incorrect)', s=60)\n",
        "\n",
        "# Mise en forme\n",
        "plt.xlabel('Échantillon (30 logements)')\n",
        "plt.ylabel('log(price)')\n",
        "plt.title('Prix réels vs prédits (échantillon de 30 logements)')\n",
        "plt.legend()\n",
        "plt.grid(True)\n",
        "plt.tight_layout()\n",
        "plt.show()"
      ],
      "metadata": {
        "colab": {
          "base_uri": "https://localhost:8080/",
          "height": 627
        },
        "id": "O7cNqlUJ5KZP",
        "outputId": "f9a16716-825b-47a4-bd26-36c2943a3e41"
      },
      "execution_count": 60,
      "outputs": [
        {
          "output_type": "display_data",
          "data": {
            "text/plain": [
              "<Figure size 1200x600 with 1 Axes>"
            ],
            "image/png": "[encoded data removed]"
          },
          "metadata": {}
        }
      ]
    },
    {
      "cell_type": "code",
      "source": [],
      "metadata": {
        "id": "tL3HUvrN53m8"
      },
      "execution_count": null,
      "outputs": []
    }
  ],
  "metadata": {
    "colab": {
      "provenance": [],
      "toc_visible": true
    },
    "kernelspec": {
      "display_name": "Python 3",
      "name": "python3"
    },
    "language_info": {
      "name": "python"
    }
  },
  "nbformat": 4,
  "nbformat_minor": 0
}